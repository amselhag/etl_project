{
 "cells": [
  {
   "cell_type": "code",
   "execution_count": 24,
   "metadata": {},
   "outputs": [],
   "source": [
    "# Dependencies\n",
    "from bs4 import BeautifulSoup\n",
    "import requests\n",
    "from splinter import Browser\n",
    "import time\n",
    "import pandas as pd\n",
    "from sqlalchemy import create_engine\n",
    "import pymysql\n",
    "pymysql.install_as_MySQLdb()"
   ]
  },
  {
   "cell_type": "code",
   "execution_count": 3,
   "metadata": {},
   "outputs": [],
   "source": [
    "executable_path = {'executable_path': '/usr/local/bin/chromedriver'}\n",
    "browser = Browser('chrome', **executable_path, headless=False)"
   ]
  },
  {
   "cell_type": "code",
   "execution_count": 4,
   "metadata": {},
   "outputs": [],
   "source": [
    "# URL of page to be scraped\n",
    "url = 'https://www.indeed.com/jobs?q=data%20analyst&l=austin'\n",
    "browser.visit(url)"
   ]
  },
  {
   "cell_type": "code",
   "execution_count": 5,
   "metadata": {},
   "outputs": [],
   "source": [
    "title_list=[]\n",
    "company_list=[]\n",
    "location_list=[]\n",
    "link_description_list=[]\n",
    "\n",
    "\n",
    "for x in range(1, 75):\n",
    "    \n",
    "    html = browser.html\n",
    "    soup = BeautifulSoup(html, 'html.parser')\n",
    "    results = soup.find_all('div', class_=\"jobsearch-SerpJobCard\")\n",
    "    \n",
    "    \n",
    "    for result in results:\n",
    "    \n",
    "        title=result.a['title']\n",
    "        title_list.append(title)\n",
    "        company=result.find('span', class_='company').text\n",
    "        company_list.append(company)\n",
    "        location=result.find(class_='location').text\n",
    "        location_list.append(location)\n",
    "        link_description=result.a['href']\n",
    "        link_description_list.append(link_description)\n",
    "        \n",
    "        #print('page:', x, '-------------')\n",
    "        #print(title)\n",
    "        #print(company)\n",
    "        #print(location)\n",
    "        #print(link_description)\n",
    "        #print(\"-------------------------\")\n",
    "        \n",
    "\n",
    "    \n",
    "    "
   ]
  },
  {
   "cell_type": "code",
   "execution_count": 6,
   "metadata": {},
   "outputs": [],
   "source": [
    "description_url_list = ['http://indeed.com' + url for url in link_description_list]"
   ]
  },
  {
   "cell_type": "code",
   "execution_count": 7,
   "metadata": {},
   "outputs": [],
   "source": [
    "description_text_list=[]\n",
    "URL=[]\n",
    "\n",
    "for urls in description_url_list:\n",
    "    URL.append(urls)\n",
    "    browser.visit(urls)\n",
    "    html = browser.html\n",
    "    soup = BeautifulSoup(html, 'html.parser')\n",
    "    description_results=soup.find_all('div', class_=\"jobsearch-JobComponent-description\")\n",
    "    for description in description_results:\n",
    "        actual_description=description.text\n",
    "    description_text_list.append(actual_description)\n",
    "#         print(urls)\n",
    "#         print(actual_description)\n",
    "#         print('------------------------')"
   ]
  },
  {
   "cell_type": "code",
   "execution_count": 17,
   "metadata": {},
   "outputs": [],
   "source": [
    "jobs_df = pd.DataFrame({\n",
    "    \"Job Title\": title_list,\n",
    "    \"Company\": company_list,\n",
    "    \"Locatoin\": location_list,\n",
    "    \"Link Description\": link_description_list\n",
    "})"
   ]
  },
  {
   "cell_type": "code",
   "execution_count": 19,
   "metadata": {},
   "outputs": [
    {
     "data": {
      "text/html": [
       "<div>\n",
       "<style scoped>\n",
       "    .dataframe tbody tr th:only-of-type {\n",
       "        vertical-align: middle;\n",
       "    }\n",
       "\n",
       "    .dataframe tbody tr th {\n",
       "        vertical-align: top;\n",
       "    }\n",
       "\n",
       "    .dataframe thead th {\n",
       "        text-align: right;\n",
       "    }\n",
       "</style>\n",
       "<table border=\"1\" class=\"dataframe\">\n",
       "  <thead>\n",
       "    <tr style=\"text-align: right;\">\n",
       "      <th></th>\n",
       "      <th>Job Title</th>\n",
       "      <th>Company</th>\n",
       "      <th>Locatoin</th>\n",
       "      <th>Link Description</th>\n",
       "    </tr>\n",
       "  </thead>\n",
       "  <tbody>\n",
       "    <tr>\n",
       "      <th>0</th>\n",
       "      <td>Healthcare Data Analyst</td>\n",
       "      <td>\\n\\n        TML MultiState IEBP</td>\n",
       "      <td>Austin, TX 78754</td>\n",
       "      <td>/pagead/clk?mo=r&amp;ad=-6NYlbfkN0D_AngAViu68QezII...</td>\n",
       "    </tr>\n",
       "    <tr>\n",
       "      <th>1</th>\n",
       "      <td>Data Analyst</td>\n",
       "      <td>\\n\\n        Silvercar</td>\n",
       "      <td>Austin, TX</td>\n",
       "      <td>/pagead/clk?mo=r&amp;ad=-6NYlbfkN0ALhMgdRB8YT1nVMS...</td>\n",
       "    </tr>\n",
       "    <tr>\n",
       "      <th>2</th>\n",
       "      <td>Data Privacy Analyst</td>\n",
       "      <td>\\n\\n        Indeed</td>\n",
       "      <td>Austin, TX 78731</td>\n",
       "      <td>/pagead/clk?mo=r&amp;ad=-6NYlbfkN0CiRNM7CVr8YueLFK...</td>\n",
       "    </tr>\n",
       "    <tr>\n",
       "      <th>3</th>\n",
       "      <td>Digital Analyst</td>\n",
       "      <td>\\n        PivotalAnalytics</td>\n",
       "      <td>Austin, TX</td>\n",
       "      <td>/pagead/clk?mo=r&amp;ad=-6NYlbfkN0ALIVyn3YdKH-PRuH...</td>\n",
       "    </tr>\n",
       "    <tr>\n",
       "      <th>4</th>\n",
       "      <td>TRACS Data Analyst 06-19</td>\n",
       "      <td>\\n\\n        Housing Authority of The City of A...</td>\n",
       "      <td>Austin, TX 78704 (South Lamar-South Congress a...</td>\n",
       "      <td>/rc/clk?jk=c54e5625ad2987c2&amp;fccid=314136e4f82b...</td>\n",
       "    </tr>\n",
       "  </tbody>\n",
       "</table>\n",
       "</div>"
      ],
      "text/plain": [
       "                  Job Title  \\\n",
       "0   Healthcare Data Analyst   \n",
       "1              Data Analyst   \n",
       "2      Data Privacy Analyst   \n",
       "3           Digital Analyst   \n",
       "4  TRACS Data Analyst 06-19   \n",
       "\n",
       "                                             Company  \\\n",
       "0                    \\n\\n        TML MultiState IEBP   \n",
       "1                              \\n\\n        Silvercar   \n",
       "2                                 \\n\\n        Indeed   \n",
       "3                         \\n        PivotalAnalytics   \n",
       "4  \\n\\n        Housing Authority of The City of A...   \n",
       "\n",
       "                                            Locatoin  \\\n",
       "0                                   Austin, TX 78754   \n",
       "1                                         Austin, TX   \n",
       "2                                   Austin, TX 78731   \n",
       "3                                         Austin, TX   \n",
       "4  Austin, TX 78704 (South Lamar-South Congress a...   \n",
       "\n",
       "                                    Link Description  \n",
       "0  /pagead/clk?mo=r&ad=-6NYlbfkN0D_AngAViu68QezII...  \n",
       "1  /pagead/clk?mo=r&ad=-6NYlbfkN0ALhMgdRB8YT1nVMS...  \n",
       "2  /pagead/clk?mo=r&ad=-6NYlbfkN0CiRNM7CVr8YueLFK...  \n",
       "3  /pagead/clk?mo=r&ad=-6NYlbfkN0ALIVyn3YdKH-PRuH...  \n",
       "4  /rc/clk?jk=c54e5625ad2987c2&fccid=314136e4f82b...  "
      ]
     },
     "execution_count": 19,
     "metadata": {},
     "output_type": "execute_result"
    }
   ],
   "source": [
    "jobs_df.head()"
   ]
  },
  {
   "cell_type": "code",
   "execution_count": 21,
   "metadata": {},
   "outputs": [],
   "source": [
    "description_df = pd.DataFrame({\n",
    "    \"Description\": description_text_list,\n",
    "    \"URL\": URL\n",
    "})"
   ]
  },
  {
   "cell_type": "code",
   "execution_count": 22,
   "metadata": {},
   "outputs": [
    {
     "data": {
      "text/html": [
       "<div>\n",
       "<style scoped>\n",
       "    .dataframe tbody tr th:only-of-type {\n",
       "        vertical-align: middle;\n",
       "    }\n",
       "\n",
       "    .dataframe tbody tr th {\n",
       "        vertical-align: top;\n",
       "    }\n",
       "\n",
       "    .dataframe thead th {\n",
       "        text-align: right;\n",
       "    }\n",
       "</style>\n",
       "<table border=\"1\" class=\"dataframe\">\n",
       "  <thead>\n",
       "    <tr style=\"text-align: right;\">\n",
       "      <th></th>\n",
       "      <th>Description</th>\n",
       "      <th>URL</th>\n",
       "    </tr>\n",
       "  </thead>\n",
       "  <tbody>\n",
       "    <tr>\n",
       "      <th>0</th>\n",
       "      <td>SUMMARY: TML Multistate IEBP is pleased to ann...</td>\n",
       "      <td>http://indeed.com/pagead/clk?mo=r&amp;ad=-6NYlbfkN...</td>\n",
       "    </tr>\n",
       "    <tr>\n",
       "      <th>1</th>\n",
       "      <td>About Silvercar:\\nSilvercar's unique combinati...</td>\n",
       "      <td>http://indeed.com/pagead/clk?mo=r&amp;ad=-6NYlbfkN...</td>\n",
       "    </tr>\n",
       "    <tr>\n",
       "      <th>2</th>\n",
       "      <td>Our mission:\\nAs the world’s number 1 job site...</td>\n",
       "      <td>http://indeed.com/pagead/clk?mo=r&amp;ad=-6NYlbfkN...</td>\n",
       "    </tr>\n",
       "    <tr>\n",
       "      <th>3</th>\n",
       "      <td>Company Overview:PivotalAnalytics is an analyt...</td>\n",
       "      <td>http://indeed.com/pagead/clk?mo=r&amp;ad=-6NYlbfkN...</td>\n",
       "    </tr>\n",
       "    <tr>\n",
       "      <th>4</th>\n",
       "      <td>$18.50 an hourJOB NOTICE\\n DATE POSTED: Februa...</td>\n",
       "      <td>http://indeed.com/rc/clk?jk=c54e5625ad2987c2&amp;f...</td>\n",
       "    </tr>\n",
       "  </tbody>\n",
       "</table>\n",
       "</div>"
      ],
      "text/plain": [
       "                                         Description  \\\n",
       "0  SUMMARY: TML Multistate IEBP is pleased to ann...   \n",
       "1  About Silvercar:\\nSilvercar's unique combinati...   \n",
       "2  Our mission:\\nAs the world’s number 1 job site...   \n",
       "3  Company Overview:PivotalAnalytics is an analyt...   \n",
       "4  $18.50 an hourJOB NOTICE\\n DATE POSTED: Februa...   \n",
       "\n",
       "                                                 URL  \n",
       "0  http://indeed.com/pagead/clk?mo=r&ad=-6NYlbfkN...  \n",
       "1  http://indeed.com/pagead/clk?mo=r&ad=-6NYlbfkN...  \n",
       "2  http://indeed.com/pagead/clk?mo=r&ad=-6NYlbfkN...  \n",
       "3  http://indeed.com/pagead/clk?mo=r&ad=-6NYlbfkN...  \n",
       "4  http://indeed.com/rc/clk?jk=c54e5625ad2987c2&f...  "
      ]
     },
     "execution_count": 22,
     "metadata": {},
     "output_type": "execute_result"
    }
   ],
   "source": [
    "description_df.head()"
   ]
  },
  {
   "cell_type": "code",
   "execution_count": 25,
   "metadata": {},
   "outputs": [],
   "source": [
    "# Connect to local database\n",
    "rds_connection_string = \"root:KB@127.0.0.1/jobs_db\"\n",
    "engine = create_engine(f'mysql://{rds_connection_string}')"
   ]
  },
  {
   "cell_type": "code",
   "execution_count": 26,
   "metadata": {},
   "outputs": [],
   "source": [
    "executable_path = {'executable_path': '/usr/local/bin/chromedriver'}\n",
    "browser = Browser('chrome', **executable_path, headless=False)"
   ]
  },
  {
   "cell_type": "code",
   "execution_count": 27,
   "metadata": {},
   "outputs": [],
   "source": [
    "# Connect to local database\n",
    "rds_connection_string = \"root:KB@127.0.0.1/jobs_db\"\n",
    "engine = create_engine(f'mysql://{rds_connection_string}')"
   ]
  },
  {
   "cell_type": "markdown",
   "metadata": {},
   "source": [
    "### Use pandas to load DataFrame into database"
   ]
  },
  {
   "cell_type": "code",
   "execution_count": 31,
   "metadata": {},
   "outputs": [],
   "source": [
    "jobs_df.to_sql(name='job_postings', con=engine, if_exists='replace', index=False)"
   ]
  },
  {
   "cell_type": "code",
   "execution_count": 33,
   "metadata": {},
   "outputs": [],
   "source": [
    "description_df.to_sql(name='description', con=engine, if_exists='replace', index=False)"
   ]
  },
  {
   "cell_type": "markdown",
   "metadata": {},
   "source": [
    "### Query from SQL"
   ]
  },
  {
   "cell_type": "code",
   "execution_count": 32,
   "metadata": {},
   "outputs": [
    {
     "data": {
      "text/html": [
       "<div>\n",
       "<style scoped>\n",
       "    .dataframe tbody tr th:only-of-type {\n",
       "        vertical-align: middle;\n",
       "    }\n",
       "\n",
       "    .dataframe tbody tr th {\n",
       "        vertical-align: top;\n",
       "    }\n",
       "\n",
       "    .dataframe thead th {\n",
       "        text-align: right;\n",
       "    }\n",
       "</style>\n",
       "<table border=\"1\" class=\"dataframe\">\n",
       "  <thead>\n",
       "    <tr style=\"text-align: right;\">\n",
       "      <th></th>\n",
       "      <th>Job Title</th>\n",
       "      <th>Company</th>\n",
       "      <th>Locatoin</th>\n",
       "      <th>Link Description</th>\n",
       "    </tr>\n",
       "  </thead>\n",
       "  <tbody>\n",
       "    <tr>\n",
       "      <th>0</th>\n",
       "      <td>Healthcare Data Analyst</td>\n",
       "      <td>\\n\\n        TML MultiState IEBP</td>\n",
       "      <td>Austin, TX 78754</td>\n",
       "      <td>/pagead/clk?mo=r&amp;ad=-6NYlbfkN0D_AngAViu68QezII...</td>\n",
       "    </tr>\n",
       "    <tr>\n",
       "      <th>1</th>\n",
       "      <td>Data Analyst</td>\n",
       "      <td>\\n\\n        Silvercar</td>\n",
       "      <td>Austin, TX</td>\n",
       "      <td>/pagead/clk?mo=r&amp;ad=-6NYlbfkN0ALhMgdRB8YT1nVMS...</td>\n",
       "    </tr>\n",
       "    <tr>\n",
       "      <th>2</th>\n",
       "      <td>Data Privacy Analyst</td>\n",
       "      <td>\\n\\n        Indeed</td>\n",
       "      <td>Austin, TX 78731</td>\n",
       "      <td>/pagead/clk?mo=r&amp;ad=-6NYlbfkN0CiRNM7CVr8YueLFK...</td>\n",
       "    </tr>\n",
       "    <tr>\n",
       "      <th>3</th>\n",
       "      <td>Digital Analyst</td>\n",
       "      <td>\\n        PivotalAnalytics</td>\n",
       "      <td>Austin, TX</td>\n",
       "      <td>/pagead/clk?mo=r&amp;ad=-6NYlbfkN0ALIVyn3YdKH-PRuH...</td>\n",
       "    </tr>\n",
       "    <tr>\n",
       "      <th>4</th>\n",
       "      <td>TRACS Data Analyst 06-19</td>\n",
       "      <td>\\n\\n        Housing Authority of The City of A...</td>\n",
       "      <td>Austin, TX 78704 (South Lamar-South Congress a...</td>\n",
       "      <td>/rc/clk?jk=c54e5625ad2987c2&amp;fccid=314136e4f82b...</td>\n",
       "    </tr>\n",
       "  </tbody>\n",
       "</table>\n",
       "</div>"
      ],
      "text/plain": [
       "                  Job Title  \\\n",
       "0   Healthcare Data Analyst   \n",
       "1              Data Analyst   \n",
       "2      Data Privacy Analyst   \n",
       "3           Digital Analyst   \n",
       "4  TRACS Data Analyst 06-19   \n",
       "\n",
       "                                             Company  \\\n",
       "0                    \\n\\n        TML MultiState IEBP   \n",
       "1                              \\n\\n        Silvercar   \n",
       "2                                 \\n\\n        Indeed   \n",
       "3                         \\n        PivotalAnalytics   \n",
       "4  \\n\\n        Housing Authority of The City of A...   \n",
       "\n",
       "                                            Locatoin  \\\n",
       "0                                   Austin, TX 78754   \n",
       "1                                         Austin, TX   \n",
       "2                                   Austin, TX 78731   \n",
       "3                                         Austin, TX   \n",
       "4  Austin, TX 78704 (South Lamar-South Congress a...   \n",
       "\n",
       "                                    Link Description  \n",
       "0  /pagead/clk?mo=r&ad=-6NYlbfkN0D_AngAViu68QezII...  \n",
       "1  /pagead/clk?mo=r&ad=-6NYlbfkN0ALhMgdRB8YT1nVMS...  \n",
       "2  /pagead/clk?mo=r&ad=-6NYlbfkN0CiRNM7CVr8YueLFK...  \n",
       "3  /pagead/clk?mo=r&ad=-6NYlbfkN0ALIVyn3YdKH-PRuH...  \n",
       "4  /rc/clk?jk=c54e5625ad2987c2&fccid=314136e4f82b...  "
      ]
     },
     "execution_count": 32,
     "metadata": {},
     "output_type": "execute_result"
    }
   ],
   "source": [
    "pd.read_sql_query('select * from job_postings', con=engine).head()"
   ]
  },
  {
   "cell_type": "code",
   "execution_count": 34,
   "metadata": {},
   "outputs": [
    {
     "data": {
      "text/html": [
       "<div>\n",
       "<style scoped>\n",
       "    .dataframe tbody tr th:only-of-type {\n",
       "        vertical-align: middle;\n",
       "    }\n",
       "\n",
       "    .dataframe tbody tr th {\n",
       "        vertical-align: top;\n",
       "    }\n",
       "\n",
       "    .dataframe thead th {\n",
       "        text-align: right;\n",
       "    }\n",
       "</style>\n",
       "<table border=\"1\" class=\"dataframe\">\n",
       "  <thead>\n",
       "    <tr style=\"text-align: right;\">\n",
       "      <th></th>\n",
       "      <th>Description</th>\n",
       "      <th>URL</th>\n",
       "    </tr>\n",
       "  </thead>\n",
       "  <tbody>\n",
       "    <tr>\n",
       "      <th>0</th>\n",
       "      <td>SUMMARY: TML Multistate IEBP is pleased to ann...</td>\n",
       "      <td>http://indeed.com/pagead/clk?mo=r&amp;ad=-6NYlbfkN...</td>\n",
       "    </tr>\n",
       "    <tr>\n",
       "      <th>1</th>\n",
       "      <td>About Silvercar:\\nSilvercar's unique combinati...</td>\n",
       "      <td>http://indeed.com/pagead/clk?mo=r&amp;ad=-6NYlbfkN...</td>\n",
       "    </tr>\n",
       "    <tr>\n",
       "      <th>2</th>\n",
       "      <td>Our mission:\\nAs the world’s number 1 job site...</td>\n",
       "      <td>http://indeed.com/pagead/clk?mo=r&amp;ad=-6NYlbfkN...</td>\n",
       "    </tr>\n",
       "    <tr>\n",
       "      <th>3</th>\n",
       "      <td>Company Overview:PivotalAnalytics is an analyt...</td>\n",
       "      <td>http://indeed.com/pagead/clk?mo=r&amp;ad=-6NYlbfkN...</td>\n",
       "    </tr>\n",
       "    <tr>\n",
       "      <th>4</th>\n",
       "      <td>$18.50 an hourJOB NOTICE\\n DATE POSTED: Februa...</td>\n",
       "      <td>http://indeed.com/rc/clk?jk=c54e5625ad2987c2&amp;f...</td>\n",
       "    </tr>\n",
       "  </tbody>\n",
       "</table>\n",
       "</div>"
      ],
      "text/plain": [
       "                                         Description  \\\n",
       "0  SUMMARY: TML Multistate IEBP is pleased to ann...   \n",
       "1  About Silvercar:\\nSilvercar's unique combinati...   \n",
       "2  Our mission:\\nAs the world’s number 1 job site...   \n",
       "3  Company Overview:PivotalAnalytics is an analyt...   \n",
       "4  $18.50 an hourJOB NOTICE\\n DATE POSTED: Februa...   \n",
       "\n",
       "                                                 URL  \n",
       "0  http://indeed.com/pagead/clk?mo=r&ad=-6NYlbfkN...  \n",
       "1  http://indeed.com/pagead/clk?mo=r&ad=-6NYlbfkN...  \n",
       "2  http://indeed.com/pagead/clk?mo=r&ad=-6NYlbfkN...  \n",
       "3  http://indeed.com/pagead/clk?mo=r&ad=-6NYlbfkN...  \n",
       "4  http://indeed.com/rc/clk?jk=c54e5625ad2987c2&f...  "
      ]
     },
     "execution_count": 34,
     "metadata": {},
     "output_type": "execute_result"
    }
   ],
   "source": [
    "pd.read_sql_query('select * from description', con=engine).head()"
   ]
  },
  {
   "cell_type": "code",
   "execution_count": null,
   "metadata": {},
   "outputs": [],
   "source": []
  }
 ],
 "metadata": {
  "kernelspec": {
   "display_name": "UT Boot Camp",
   "language": "python",
   "name": "ut_boot_camp"
  },
  "language_info": {
   "codemirror_mode": {
    "name": "ipython",
    "version": 3
   },
   "file_extension": ".py",
   "mimetype": "text/x-python",
   "name": "python",
   "nbconvert_exporter": "python",
   "pygments_lexer": "ipython3",
   "version": "3.6.7"
  }
 },
 "nbformat": 4,
 "nbformat_minor": 2
}
