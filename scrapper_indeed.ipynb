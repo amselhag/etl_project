{
 "cells": [
  {
   "cell_type": "code",
   "execution_count": 1,
   "metadata": {},
   "outputs": [],
   "source": [
    "# Dependencies\n",
    "from bs4 import BeautifulSoup\n",
    "import requests\n",
    "from splinter import Browser\n",
    "import time"
   ]
  },
  {
   "cell_type": "code",
   "execution_count": 2,
   "metadata": {},
   "outputs": [],
   "source": [
    "executable_path = {'executable_path': 'chromedriver.exe'}\n",
    "browser = Browser('chrome', **executable_path, headless=False)"
   ]
  },
  {
   "cell_type": "markdown",
   "metadata": {},
   "source": [
    "### Scraping each result page"
   ]
  },
  {
   "cell_type": "code",
   "execution_count": 3,
   "metadata": {},
   "outputs": [],
   "source": [
    "# URL of page to be scraped\n",
    "url = 'https://www.indeed.com/jobs?q=data%20analyst&l=austin'\n",
    "browser.visit(url)"
   ]
  },
  {
   "cell_type": "code",
   "execution_count": 4,
   "metadata": {},
   "outputs": [],
   "source": [
    "title_list=[]\n",
    "company_list=[]\n",
    "location_list=[]\n",
    "link_description_list=[]\n",
    "\n",
    "\n",
    "for x in range(1, 75):\n",
    "    \n",
    "    html = browser.html\n",
    "    soup = BeautifulSoup(html, 'html.parser')\n",
    "    results = soup.find_all('div', class_=\"jobsearch-SerpJobCard\")\n",
    "    \n",
    "    \n",
    "    for result in results:\n",
    "    \n",
    "        title=result.a['title']\n",
    "        title_list.append(title)\n",
    "        company=result.find('span', class_='company').text\n",
    "        company_list.append(company)\n",
    "        location=result.find(class_='location').text\n",
    "        location_list.append(location)\n",
    "        link_description=result.a['href']\n",
    "        link_description_list.append(link_description)\n",
    "        \n",
    "        #print('page:', x, '-------------')\n",
    "        #print(title)\n",
    "        #print(company)\n",
    "        #print(location)\n",
    "        #print(link_description)\n",
    "        #print(\"-------------------------\")\n",
    "        \n",
    "\n",
    "    \n",
    "    "
   ]
  },
  {
   "cell_type": "markdown",
   "metadata": {},
   "source": [
    "### Scraping the description"
   ]
  },
  {
   "cell_type": "code",
   "execution_count": 7,
   "metadata": {},
   "outputs": [],
   "source": [
    "description_url_list = ['http://indeed.com' + url for url in link_description_list]"
   ]
  },
  {
   "cell_type": "code",
   "execution_count": 8,
   "metadata": {},
   "outputs": [],
   "source": [
    "description_text_list=[]\n",
    "URL=[]\n",
    "for urls in description_url_list:\n",
    "    URL.append(urls)\n",
    "    response = requests.get(urls)\n",
    "    soup = BeautifulSoup(response.text, 'html.parser')\n",
    "    description_results=soup.find_all('div', class_=\"jobsearch-JobComponent-description\")\n",
    "    for description in description_results:\n",
    "        actual_description=description.text\n",
    "    description_text_list.append(actual_description)\n",
    "#         print(urls)\n",
    "#         print(actual_description)\n",
    "#         print('------------------------')\n",
    "        \n",
    "       "
   ]
  },
  {
   "cell_type": "code",
   "execution_count": 9,
   "metadata": {},
   "outputs": [
    {
     "data": {
      "text/plain": [
       "1184"
      ]
     },
     "execution_count": 9,
     "metadata": {},
     "output_type": "execute_result"
    }
   ],
   "source": [
    "len(description_text_list)"
   ]
  },
  {
   "cell_type": "code",
   "execution_count": 10,
   "metadata": {},
   "outputs": [
    {
     "data": {
      "text/plain": [
       "1184"
      ]
     },
     "execution_count": 10,
     "metadata": {},
     "output_type": "execute_result"
    }
   ],
   "source": [
    "len(URL)"
   ]
  },
  {
   "cell_type": "code",
   "execution_count": 11,
   "metadata": {},
   "outputs": [
    {
     "data": {
      "text/plain": [
       "1184"
      ]
     },
     "execution_count": 11,
     "metadata": {},
     "output_type": "execute_result"
    }
   ],
   "source": [
    "len(description_url_list)"
   ]
  },
  {
   "cell_type": "code",
   "execution_count": null,
   "metadata": {},
   "outputs": [],
   "source": []
  }
 ],
 "metadata": {
  "kernelspec": {
   "display_name": "Python 3",
   "language": "python",
   "name": "python3"
  },
  "language_info": {
   "codemirror_mode": {
    "name": "ipython",
    "version": 3
   },
   "file_extension": ".py",
   "mimetype": "text/x-python",
   "name": "python",
   "nbconvert_exporter": "python",
   "pygments_lexer": "ipython3",
   "version": "3.7.0"
  }
 },
 "nbformat": 4,
 "nbformat_minor": 2
}
